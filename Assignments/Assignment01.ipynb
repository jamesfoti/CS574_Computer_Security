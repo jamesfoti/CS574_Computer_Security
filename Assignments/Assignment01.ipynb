{
 "cells": [
  {
   "cell_type": "markdown",
   "metadata": {},
   "source": [
    "1. Decrypt the following ciphertext which was encrypted with Caesar Cipher. The key shift isgiven in each case. Show the substitution key mapping in each case. <br/><br/> \n",
    "a) Cipher Text: **dtzw ynrj nx qnrnyji xt itsy bxfyj ny sn qnansl xtrjtsj jqxjx qnaj** , Key Shift: 5 <br><br>\n",
    "Key shift (5) mapping for the entire alphabet: <br>\n",
    "a $\\implies$ v <br>\n",
    "b $\\implies$ w <br>\n",
    "c $\\implies$ x <br>\n",
    "d $\\implies$ y <br>\n",
    "e $\\implies$ z <br>\n",
    "f $\\implies$ a <br>\n",
    "g $\\implies$ b <br>\n",
    "h $\\implies$ c <br>\n",
    "i $\\implies$ d <br>\n",
    "j $\\implies$ e <br>\n",
    "k $\\implies$ f <br>\n",
    "l $\\implies$ g <br>\n",
    "m $\\implies$ h <br>\n",
    "n $\\implies$ i <br>\n",
    "o $\\implies$ j <br>\n",
    "p $\\implies$ k <br>\n",
    "q $\\implies$ l <br>\n",
    "r $\\implies$ m <br>\n",
    "s $\\implies$ n <br>\n",
    "t $\\implies$ o <br>\n",
    "u $\\implies$ p <br>\n",
    "v $\\implies$ q <br>\n",
    "w $\\implies$ r <br>\n",
    "x $\\implies$ s <br>\n",
    "y $\\implies$ t <br>\n",
    "z $\\implies$ u <br><br>\n",
    "decrypted ciphertext: **your time is limited so dont wsate it ni living someone elses live**<br><br><br>\n",
    "b) Cipher Text: **xli gsso aew e kssh gsso ew gssow sk erh ew gssow ks wil airx**, Key Shift: 4<br><br>\n",
    "Key shift (4) mapping for the entire alphabet: <br>\n",
    "a $\\implies$ w <br>\n",
    "b $\\implies$ x <br>\n",
    "c $\\implies$ y <br>\n",
    "d $\\implies$ z <br>\n",
    "e $\\implies$ a <br>\n",
    "f $\\implies$ b <br>\n",
    "g $\\implies$ c <br>\n",
    "h $\\implies$ d <br>\n",
    "i $\\implies$ e <br>\n",
    "j $\\implies$ f <br>\n",
    "k $\\implies$ g <br>\n",
    "l $\\implies$ h <br>\n",
    "m $\\implies$ i <br>\n",
    "n $\\implies$ j <br>\n",
    "o $\\implies$ k <br>\n",
    "p $\\implies$ l <br>\n",
    "q $\\implies$ m <br>\n",
    "r $\\implies$ n <br>\n",
    "s $\\implies$ o <br>\n",
    "t $\\implies$ p <br>\n",
    "u $\\implies$ q <br>\n",
    "v $\\implies$ r <br>\n",
    "w $\\implies$ s <br>\n",
    "x $\\implies$ t <br>\n",
    "y $\\implies$ u <br>\n",
    "z $\\implies$ v <br><br>\n",
    "decrypted ciphertext: **the cook was a good cook as cooks og and as cooks go seh went**"
   ]
  },
  {
   "cell_type": "markdown",
   "metadata": {},
   "source": [
    "2. For any block cipher, the fact that it is a nonlinear function is crucial to its security. To see\n",
    "this, suppose that we have a linear block cipher EL that encrypts 128-bit blocks of\n",
    "plaintext into 128-bit blocks of ciphertext. Let EL(k, m) denote the encryption of a 128-bit\n",
    "message m under a key k (the actual bit length of k is irrelevant). Thus <br><br>\n",
    "EL(k, [m1 **XOR** m2]) = EL (k, m1) **XOR** EL (k, m1) for all 128-bit patterns m1, m2 <br><br>\n",
    "Describe how, with 128 chosen ciphertexts, an adversary can decrypt any ciphertext\n",
    "without knowledge of the secret key k. (A \"chosen ciphertext\" means that an adversary\n",
    "has the ability to choose a ciphertext and then obtain its decryption. Here, you have 128\n",
    "plaintext/ciphertext pairs to work with and you can choose the value of the ciphertexts.)<br><br>"
   ]
  },
  {
   "cell_type": "markdown",
   "metadata": {},
   "source": [
    "$$\n",
    "\\begin{align*}\n",
    "& c_{i}\\epsilon {\\{0,1\\}}^{128} \\\\\n",
    "& m_{i} = i^{th}\\text{ plaintext} \\\\\n",
    "& c_{i} = i^{th}\\text{ cipher text for } m_{i} \\\\\n",
    "& i = \\text{position of the 128-bit message} \\\\\n",
    "\\end{align*}\n",
    "$$\n",
    "\n",
    "$$\n",
    "\\begin{align*}\n",
    "& \\text{An adversary will try to take the cipher text of 128 bits that corresponds to the plain text of } m_{1}, m_{2}, ...m_{128}.\\\\\n",
    "& \\text{The adversary also knows that the cipher text dows not contain all zeros and that there is no empy subset of } c_{i}. \\\\\n",
    "& \\text{The adversarty will assume the subset if } I(c) \\subseteq {\\{1,2,3,...,128\\}}\\\\\\\\\n",
    "& \\text{Then, } c = \\oplus_{i\\epsilon I(c)} E\\Big(\\oplus_{i\\epsilon I(c)} m_{i} \\Big)\\\\\n",
    "\\end{align*}\n",
    "$$"
   ]
  },
  {
   "cell_type": "markdown",
   "metadata": {},
   "source": [
    "3. This problem uses a real-world example of a symmetric cipher, from an old U.S. Special Forces manual (public domain). See the attached document on page 3.<br><br>\n",
    "a) Using the two keys (memory words) “cryptographic” and “network security”, encrypt the\n",
    "following message:<br><br>\n",
    "“Be at the third pillar from the left outside the lyceum theatre tonight at seven. If you are\n",
    "distrustful bring two friends.”<br><br>\n",
    "Make reasonable assumptions about how to treat redundant letters and excess letters in\n",
    "the memory words and how to treat spaces and punctuation. Indicate what your\n",
    "assumptions are.<br><br>\n",
    "b) Decrypt the ciphertext. Show your work. "
   ]
  },
  {
   "cell_type": "markdown",
   "metadata": {},
   "source": [
    "**3. a) <br>The first key is 'cryptographic' which becomes 'cryptogahi' because we removed redundant letters. Then we write the message in a 10x10 matrix because the size of the key word is now 10. <img src=\"table01.png\"><br>\n",
    "The alphabetical order of 'cryptogahi' is 'a, c, g, h, i, o, p, r, t, y'.** <br>\n",
    "\n",
    "**a $\\implies$ 8th position $\\implies$ 8th column read first <br>\n",
    "c $\\implies$ 1st position $\\implies$ 1st column read first <br>\n",
    "g $\\implies$ 7th position $\\implies$ 7th column read first <br>\n",
    "h $\\implies$ 9th position $\\implies$ 9th column read first <br>\n",
    "i $\\implies$ 10th position $\\implies$ 10th column read first <br>\n",
    "o $\\implies$ 6th position $\\implies$ 6th column read first <br>\n",
    "p $\\implies$ 4th position $\\implies$ 4th column read first <br>\n",
    "r $\\implies$ 2nd position $\\implies$ 2nd column read first <br>\n",
    "t $\\implies$ 5th position $\\implies$ 5th column read first <br>\n",
    "y $\\implies$ 3rd position $\\implies$ 3rd column read first <br>**\n",
    "\n",
    "**The encrypted message becomes: *'trhe hftin brouy rtust eaeth gisre hftea tyrnd irolt aougs hllet inibi tihiu oveuf edmtc esatw tledm nedlr aptse terfo'***"
   ]
  },
  {
   "cell_type": "markdown",
   "metadata": {},
   "source": [
    "4. Assume that we are planning to decrypt the cyphertext which was encrypted with DES\n",
    "encryption. We are using an ordinary household computer with 2GHz processor. Estimate\n",
    "the amount of time necessary to crack DES by testing all 56-bit possible keys. Also\n",
    "estimate the similar time for AES encryption with 128-bit key. (Assume that machine\n",
    "takes 100 cycles per brute force against a single key)\n",
    "Note: For this question, the exact answer is not as important as approach to calculate the\n",
    "answer."
   ]
  },
  {
   "cell_type": "markdown",
   "metadata": {},
   "source": [
    "$$\n",
    "2 GHz = \\frac{2*10^{9}cycles}{seconds} \\\\\n",
    "56 \\text{-bit possible keys for DES: }2^{56} keys \\\\\n",
    "128 \\text{-bit possible keys for AES: }2^{128} keys \\\\\n",
    "$$\n",
    "\n",
    "$$\n",
    "\\text{Time to crack DES: }2^{56} * \\frac{100 cycles}{key} * \\frac{seconds}{2*10^{9}cycles} * \\frac{1min}{60seconds} * \\frac{1hour}{60min} * \\frac{1day}{24hours} * \\frac{1year}{365days} = 114.2546566 years\n",
    "$$\n",
    "\n",
    "$$\n",
    "\\text{Time to crack AES: }2^{128} * \\frac{100 cycles}{key} * \\frac{seconds}{2*10^{9}cycles} * \\frac{1min}{60seconds} * \\frac{1hour}{60min} * \\frac{1day}{24hours} * \\frac{1year}{365days} \\approx 5.40 * 10^{23}years\n",
    "$$"
   ]
  },
  {
   "cell_type": "markdown",
   "metadata": {},
   "source": [
    "5. List three applications in which a stream cipher would be desirable. Be sure to explain your answer.<br><br>\n",
    "**1) Stream ciphers can be used on devices where their hardware resources are limited because stream ciphers can operate very fast on limited hardware resources. <br><br>\n",
    "2) They can be used where plaintext is inputed with unkown lengths since the length of the plaintext is not a factor where block ciphers cannot encrypt plaintext in which the length of the plaintext is smaller than their block size. Since stream ciphers encrypt each individual bit/byte one at a time, this is not an issue. <br><br>\n",
    "3) Rotor machines found in enigma machineds during WWII because these machines encrypted and decrypted plaintext one letter/number at a time.**"
   ]
  },
  {
   "cell_type": "markdown",
   "metadata": {},
   "source": [
    "6. Write a program to implement DES encryption."
   ]
  },
  {
   "cell_type": "code",
   "execution_count": 231,
   "metadata": {},
   "outputs": [],
   "source": [
    "from Crypto.Cipher import DES"
   ]
  },
  {
   "cell_type": "code",
   "execution_count": 227,
   "metadata": {},
   "outputs": [],
   "source": [
    "class DES_mod:\n",
    "    file_contents = \"\"\n",
    "    encrypted_data = \"\"\n",
    "    decrypted_data = \"\"\n",
    "    \n",
    "    def __init__(self, key):\n",
    "        self.cipher = DES.new(key)\n",
    "        \n",
    "    def encrypt_file(self, plain_byte_text):\n",
    "        self.encrypted_data = self.cipher.encrypt(plain_byte_text) # encrypt message\n",
    "        return self.encrypted_data\n",
    "        \n",
    "    def decrypt_file(self, cipher_byte_text):\n",
    "        self.decrypted_data = self.cipher.decrypt(cipher_byte_text) # decrypt message    \n",
    "        return self.decrypted_data"
   ]
  },
  {
   "cell_type": "code",
   "execution_count": 228,
   "metadata": {},
   "outputs": [],
   "source": [
    "des = DES_mod(\"8bytekey\")"
   ]
  },
  {
   "cell_type": "code",
   "execution_count": 229,
   "metadata": {},
   "outputs": [
    {
     "name": "stdout",
     "output_type": "stream",
     "text": [
      "b'+\\xe7\\xb6$\\xa3n)\\xd4'\n"
     ]
    }
   ],
   "source": [
    "cipher_text = des.encrypt_file(b'abcdefgh')\n",
    "print(cipher_text)"
   ]
  },
  {
   "cell_type": "code",
   "execution_count": 230,
   "metadata": {},
   "outputs": [
    {
     "name": "stdout",
     "output_type": "stream",
     "text": [
      "b'abcdefgh'\n"
     ]
    }
   ],
   "source": [
    "plain_text = des.decrypt_file(cipher_text)\n",
    "print(plain_text)"
   ]
  },
  {
   "cell_type": "code",
   "execution_count": null,
   "metadata": {},
   "outputs": [],
   "source": []
  }
 ],
 "metadata": {
  "kernelspec": {
   "display_name": "Python 3",
   "language": "python",
   "name": "python3"
  },
  "language_info": {
   "codemirror_mode": {
    "name": "ipython",
    "version": 3
   },
   "file_extension": ".py",
   "mimetype": "text/x-python",
   "name": "python",
   "nbconvert_exporter": "python",
   "pygments_lexer": "ipython3",
   "version": "3.7.4"
  }
 },
 "nbformat": 4,
 "nbformat_minor": 2
}
