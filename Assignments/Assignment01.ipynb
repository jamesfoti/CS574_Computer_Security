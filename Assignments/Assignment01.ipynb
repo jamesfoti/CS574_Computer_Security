{
 "cells": [
  {
   "cell_type": "markdown",
   "metadata": {},
   "source": [
    "1. Decrypt the following ciphertext which was encrypted with Caesar Cipher. The key shift isgiven in each case. Show the substitution key mapping in each case. <br/><br/> \n",
    "a) Cipher Text: **dtzw ynrj nx qnrnyji xt itsy bxfyj ny sn qnansl xtrjtsj jqxjx qnaj** , Key Shift: 5 <br><br>\n",
    "Key shift (5) mapping for the entire alphabet: <br>\n",
    "a $\\implies$ v <br>\n",
    "b $\\implies$ w <br>\n",
    "c $\\implies$ x <br>\n",
    "d $\\implies$ y <br>\n",
    "e $\\implies$ z <br>\n",
    "f $\\implies$ a <br>\n",
    "g $\\implies$ b <br>\n",
    "h $\\implies$ c <br>\n",
    "i $\\implies$ d <br>\n",
    "j $\\implies$ e <br>\n",
    "k $\\implies$ f <br>\n",
    "l $\\implies$ g <br>\n",
    "m $\\implies$ h <br>\n",
    "n $\\implies$ i <br>\n",
    "o $\\implies$ j <br>\n",
    "p $\\implies$ k <br>\n",
    "q $\\implies$ l <br>\n",
    "r $\\implies$ m <br>\n",
    "s $\\implies$ n <br>\n",
    "t $\\implies$ o <br>\n",
    "u $\\implies$ p <br>\n",
    "v $\\implies$ q <br>\n",
    "w $\\implies$ r <br>\n",
    "x $\\implies$ s <br>\n",
    "y $\\implies$ t <br>\n",
    "z $\\implies$ u <br><br>\n",
    "decrypted ciphertext: **your time is limited so dont wsate it ni living someone elses live**<br><br><br>\n",
    "b) Cipher Text: **xli gsso aew e kssh gsso ew gssow sk erh ew gssow ks wil airx**, Key Shift: 4<br><br>\n",
    "Key shift (4) mapping for the entire alphabet: <br>\n",
    "a $\\implies$ w <br>\n",
    "b $\\implies$ x <br>\n",
    "c $\\implies$ y <br>\n",
    "d $\\implies$ z <br>\n",
    "e $\\implies$ a <br>\n",
    "f $\\implies$ b <br>\n",
    "g $\\implies$ c <br>\n",
    "h $\\implies$ d <br>\n",
    "i $\\implies$ e <br>\n",
    "j $\\implies$ f <br>\n",
    "k $\\implies$ g <br>\n",
    "l $\\implies$ h <br>\n",
    "m $\\implies$ i <br>\n",
    "n $\\implies$ j <br>\n",
    "o $\\implies$ k <br>\n",
    "p $\\implies$ l <br>\n",
    "q $\\implies$ m <br>\n",
    "r $\\implies$ n <br>\n",
    "s $\\implies$ o <br>\n",
    "t $\\implies$ p <br>\n",
    "u $\\implies$ q <br>\n",
    "v $\\implies$ r <br>\n",
    "w $\\implies$ s <br>\n",
    "x $\\implies$ t <br>\n",
    "y $\\implies$ u <br>\n",
    "z $\\implies$ v <br><br>\n",
    "decrypted ciphertext: **the cook was a good cook as cooks og and as cooks go seh went**"
   ]
  },
  {
   "cell_type": "code",
   "execution_count": null,
   "metadata": {},
   "outputs": [],
   "source": []
  }
 ],
 "metadata": {
  "kernelspec": {
   "display_name": "Python 3",
   "language": "python",
   "name": "python3"
  },
  "language_info": {
   "codemirror_mode": {
    "name": "ipython",
    "version": 3
   },
   "file_extension": ".py",
   "mimetype": "text/x-python",
   "name": "python",
   "nbconvert_exporter": "python",
   "pygments_lexer": "ipython3",
   "version": "3.7.4"
  }
 },
 "nbformat": 4,
 "nbformat_minor": 2
}
