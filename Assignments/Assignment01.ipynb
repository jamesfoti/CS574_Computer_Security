{
 "cells": [
  {
   "cell_type": "markdown",
   "metadata": {},
   "source": [
    "1. Decrypt the following ciphertext which was encrypted with Caesar Cipher. The key shift isgiven in each case. Show the substitution key mapping in each case. <br/><br/> \n",
    "a) Cipher Text: **dtzw ynrj nx qnrnyji xt itsy bxfyj ny sn qnansl xtrjtsj jqxjx qnaj** , Key Shift: 5 <br><br>\n",
    "Key shift (5) mapping for the entire alphabet: <br>\n",
    "a $\\implies$ v <br>\n",
    "b $\\implies$ w <br>\n",
    "c $\\implies$ x <br>\n",
    "d $\\implies$ y <br>\n",
    "e $\\implies$ z <br>\n",
    "f $\\implies$ a <br>\n",
    "g $\\implies$ b <br>\n",
    "h $\\implies$ c <br>\n",
    "i $\\implies$ d <br>\n",
    "j $\\implies$ e <br>\n",
    "k $\\implies$ f <br>\n",
    "l $\\implies$ g <br>\n",
    "m $\\implies$ h <br>\n",
    "n $\\implies$ i <br>\n",
    "o $\\implies$ j <br>\n",
    "p $\\implies$ k <br>\n",
    "q $\\implies$ l <br>\n",
    "r $\\implies$ m <br>\n",
    "s $\\implies$ n <br>\n",
    "t $\\implies$ o <br>\n",
    "u $\\implies$ p <br>\n",
    "v $\\implies$ q <br>\n",
    "w $\\implies$ r <br>\n",
    "x $\\implies$ s <br>\n",
    "y $\\implies$ t <br>\n",
    "z $\\implies$ u <br><br>\n",
    "decrypted ciphertext: **your time is limited so dont wsate it ni living someone elses live**<br><br><br>\n",
    "b) Cipher Text: **xli gsso aew e kssh gsso ew gssow sk erh ew gssow ks wil airx**, Key Shift: 4<br><br>\n",
    "Key shift (4) mapping for the entire alphabet: <br>\n",
    "a $\\implies$ w <br>\n",
    "b $\\implies$ x <br>\n",
    "c $\\implies$ y <br>\n",
    "d $\\implies$ z <br>\n",
    "e $\\implies$ a <br>\n",
    "f $\\implies$ b <br>\n",
    "g $\\implies$ c <br>\n",
    "h $\\implies$ d <br>\n",
    "i $\\implies$ e <br>\n",
    "j $\\implies$ f <br>\n",
    "k $\\implies$ g <br>\n",
    "l $\\implies$ h <br>\n",
    "m $\\implies$ i <br>\n",
    "n $\\implies$ j <br>\n",
    "o $\\implies$ k <br>\n",
    "p $\\implies$ l <br>\n",
    "q $\\implies$ m <br>\n",
    "r $\\implies$ n <br>\n",
    "s $\\implies$ o <br>\n",
    "t $\\implies$ p <br>\n",
    "u $\\implies$ q <br>\n",
    "v $\\implies$ r <br>\n",
    "w $\\implies$ s <br>\n",
    "x $\\implies$ t <br>\n",
    "y $\\implies$ u <br>\n",
    "z $\\implies$ v <br><br>\n",
    "decrypted ciphertext: **the cook was a good cook as cooks og and as cooks go seh went**"
   ]
  },
  {
   "cell_type": "markdown",
   "metadata": {},
   "source": [
    "2. For any block cipher, the fact that it is a nonlinear function is crucial to its security. To see\n",
    "this, suppose that we have a linear block cipher EL that encrypts 128-bit blocks of\n",
    "plaintext into 128-bit blocks of ciphertext. Let EL(k, m) denote the encryption of a 128-bit\n",
    "message m under a key k (the actual bit length of k is irrelevant). Thus <br><br>\n",
    "EL(k, [m1 **XOR** m2]) = EL (k, m1) **XOR** EL (k, m1) for all 128-bit patterns m1, m2 <br><br>\n",
    "Describe how, with 128 chosen ciphertexts, an adversary can decrypt any ciphertext\n",
    "without knowledge of the secret key k. (A \"chosen ciphertext\" means that an adversary\n",
    "has the ability to choose a ciphertext and then obtain its decryption. Here, you have 128\n",
    "plaintext/ciphertext pairs to work with and you can choose the value of the ciphertexts.)<br><br>"
   ]
  },
  {
   "cell_type": "markdown",
   "metadata": {},
   "source": [
    "$$\n",
    "\\begin{align*}\n",
    "& c_{i}\\epsilon {\\{0,1\\}}^{128} \\\\\n",
    "& m_{i} = i^{th}\\text{ plaintext} \\\\\n",
    "& c_{i} = i^{th}\\text{ cipher text for } m_{i} \\\\\n",
    "& i = \\text{position of the 128-bit message} \\\\\n",
    "\\end{align*}\n",
    "$$\n",
    "\n",
    "$$\n",
    "\\begin{align*}\n",
    "& \\text{An adversary will try to take the cipher text of 128 bits that corresponds to the plain text of } m_{1}, m_{2}, ...m_{128}.\\\\\n",
    "& \\text{The adversary also knows that the cipher text dows not contain all zeros and that there is no empy subset of } c_{i}. \\\\\n",
    "& \\text{The adversarty will assume the subset if } I(c) \\subseteq {\\{1,2,3,...,128\\}}\\\\\\\\\n",
    "& \\text{Then, } c = \\oplus_{i\\epsilon I(c)} E\\Big(\\oplus_{i\\epsilon I(c)} m_{i} \\Big)\\\\\n",
    "\\end{align*}\n",
    "$$"
   ]
  },
  {
   "cell_type": "markdown",
   "metadata": {},
   "source": [
    "3. This problem uses a real-world example of a symmetric cipher, from an old U.S. Special Forces manual (public domain). See the attached document on page 3.<br><br>\n",
    "a) Using the two keys (memory words) “cryptographic” and “network security”, encrypt the\n",
    "following message:<br><br>\n",
    "“Be at the third pillar from the left outside the lyceum theatre tonight at seven. If you are\n",
    "distrustful bring two friends.”<br><br>\n",
    "Make reasonable assumptions about how to treat redundant letters and excess letters in\n",
    "the memory words and how to treat spaces and punctuation. Indicate what your\n",
    "assumptions are.<br><br>\n",
    "b) Decrypt the ciphertext. Show your work. "
   ]
  },
  {
   "cell_type": "markdown",
   "metadata": {},
   "source": [
    "3. (a)"
   ]
  },
  {
   "cell_type": "code",
   "execution_count": 250,
   "metadata": {},
   "outputs": [],
   "source": [
    "from des import DesKey\n",
    "key0 = DesKey(b\"some key\")                  # for DES\n",
    "key1 = DesKey(b\"a key for TRIPLE\")          # for 3DES, same as \"a key for TRIPLEa key fo\"\n",
    "key2 = DesKey(b\"a 24-byte key for TRIPLE\")  # for 3DES\n",
    "key3 = DesKey(b\"1234567812345678REAL_KEY\")  # for DES, same as \"REAL_KEY\""
   ]
  },
  {
   "cell_type": "code",
   "execution_count": 251,
   "metadata": {},
   "outputs": [
    {
     "data": {
      "text/plain": [
       "b\"\\x14\\xfa\\xc2 '\\x00{\\xa9\\xdc;\\x9dq\\xcbr\\x87Q\""
      ]
     },
     "execution_count": 251,
     "metadata": {},
     "output_type": "execute_result"
    }
   ],
   "source": [
    "key0.encrypt(b\"any long message\")  # -> b\"\\x14\\xfa\\xc2 '\\x00{\\xa9\\xdc;\\x9dq\\xcbr\\x87Q\""
   ]
  },
  {
   "cell_type": "code",
   "execution_count": 252,
   "metadata": {},
   "outputs": [
    {
     "data": {
      "text/plain": [
       "b\"\\x14\\xfa\\xc2 '\\x00{\\xa9\\xb2\\xa5\\xa7\\xfb#\\x86\\xc5\\x9b\""
      ]
     },
     "execution_count": 252,
     "metadata": {},
     "output_type": "execute_result"
    }
   ],
   "source": [
    "key0.encrypt(b\"any long message\", initial=0)        # -> b\"\\x14\\xfa\\xc2 '\\x00{\\xa9\\xb2\\xa5\\xa7\\xfb#\\x86\\xc5\\x9b\"\n",
    "key0.encrypt(b\"any long message\", initial=b\"\\0\"*8)  # same as above"
   ]
  },
  {
   "cell_type": "code",
   "execution_count": 367,
   "metadata": {},
   "outputs": [
    {
     "data": {
      "text/plain": [
       "b'%\\xd1KU\\x8b_A\\xa6'"
      ]
     },
     "execution_count": 367,
     "metadata": {},
     "output_type": "execute_result"
    }
   ],
   "source": [
    "key0.encrypt(b\"abc\", padding=True)  # -> b\"%\\xd1KU\\x8b_A\\xa6\""
   ]
  },
  {
   "cell_type": "code",
   "execution_count": 590,
   "metadata": {},
   "outputs": [
    {
     "data": {
      "text/plain": [
       "b'abc'"
      ]
     },
     "execution_count": 590,
     "metadata": {},
     "output_type": "execute_result"
    }
   ],
   "source": [
    "key0.decrypt(b\"%\\xd1KU\\x8b_A\\xa6\", padding=True) # -> b\"abc\""
   ]
  },
  {
   "cell_type": "code",
   "execution_count": 635,
   "metadata": {},
   "outputs": [],
   "source": [
    "import re"
   ]
  },
  {
   "cell_type": "code",
   "execution_count": 685,
   "metadata": {},
   "outputs": [],
   "source": [
    "class DES:\n",
    "    file_contents = \"\"\n",
    "    \n",
    "    def __init__(self, key):\n",
    "        key = str.encode(key)\n",
    "        self.key = DesKey(key)\n",
    "    \n",
    "    def process_file(self, file_reference):\n",
    "        with open(file_reference, 'rb') as f:\n",
    "            self.file_contents = f.read()\n",
    "    \n",
    "    def encrypt_file(self, file_reference):\n",
    "        self.process_file(file_reference)\n",
    "        cipher_text = self.key.encrypt(self.file_contents, padding=True)\n",
    "       \n",
    "        wr = open(file_reference, 'wb')\n",
    "        wr.write(cipher_text)\n",
    "        wr.close()\n",
    "        \n",
    "        return cipher_text\n",
    "        \n",
    "    def decrypt_file(self, file_reference):\n",
    "        with open(\"myfile\", \"rb\") as f:\n",
    "            bytes = f.read()\n",
    "        plain_text = self.key.decrypt(b\"\"+ (file_reference), padding=True)\n",
    "        return plain_text"
   ]
  },
  {
   "cell_type": "code",
   "execution_count": 686,
   "metadata": {},
   "outputs": [],
   "source": [
    "des = DES(\"some key\")"
   ]
  },
  {
   "cell_type": "code",
   "execution_count": 687,
   "metadata": {},
   "outputs": [],
   "source": [
    "des.process_file(\"test.txt\")"
   ]
  },
  {
   "cell_type": "code",
   "execution_count": 688,
   "metadata": {},
   "outputs": [
    {
     "name": "stdout",
     "output_type": "stream",
     "text": [
      "b'%\\xd1KU\\x8b_A\\xa6'\n"
     ]
    }
   ],
   "source": [
    "cipher_text = des.encrypt_file(\"test.txt\")\n",
    "print(cipher_text)"
   ]
  },
  {
   "cell_type": "code",
   "execution_count": 689,
   "metadata": {},
   "outputs": [
    {
     "name": "stdout",
     "output_type": "stream",
     "text": [
      "b'abc'\n"
     ]
    }
   ],
   "source": [
    "plain_text = des.decrypt_file(cipher_text)\n",
    "print(plain_text)"
   ]
  },
  {
   "cell_type": "code",
   "execution_count": null,
   "metadata": {},
   "outputs": [],
   "source": []
  }
 ],
 "metadata": {
  "kernelspec": {
   "display_name": "Python 3",
   "language": "python",
   "name": "python3"
  },
  "language_info": {
   "codemirror_mode": {
    "name": "ipython",
    "version": 3
   },
   "file_extension": ".py",
   "mimetype": "text/x-python",
   "name": "python",
   "nbconvert_exporter": "python",
   "pygments_lexer": "ipython3",
   "version": "3.7.4"
  }
 },
 "nbformat": 4,
 "nbformat_minor": 2
}
