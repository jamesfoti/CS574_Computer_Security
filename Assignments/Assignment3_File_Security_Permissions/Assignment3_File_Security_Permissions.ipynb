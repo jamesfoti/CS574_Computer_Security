{
 "cells": [
  {
   "cell_type": "markdown",
   "metadata": {},
   "source": [
    "HW 3 - Coding Question (#7) <br>\n",
    "James Foti <br>\n",
    "Red ID: 820124143 <br>\n",
    "CS 574 - Computer Security <br>\n",
    "Professor Song <br>\n",
    "3/27/2020 <br>"
   ]
  },
  {
   "cell_type": "markdown",
   "metadata": {},
   "source": [
    "**7. Coding question (20 Points)**\n",
    "Write a program that can display a file's list of security permissions and assign a list of\n",
    "permissions to a file. <br><br>\n",
    "Description – <br>\n",
    "Your program should be able to read the already existing file’s permission and then change\n",
    "the permissions of the same file. One way of reading the file security information is by using\n",
    "system calls such as GetSecurityInfo or GetNamedSecurityInfo. The system call reads the list\n",
    "of permissions for an object. You must describe in short each system call that your\n",
    "program uses. <br><br>\n",
    "Reference - http://timgolden.me.uk/python/win32_how_do_i/add-security-to-a-file.html"
   ]
  },
  {
   "cell_type": "markdown",
   "metadata": {},
   "source": [
    "**NOTE:** The reference above povides the solution to this problem. I am simply just documenting and describing the function calls that are being used!"
   ]
  },
  {
   "cell_type": "code",
   "execution_count": 1,
   "metadata": {},
   "outputs": [],
   "source": [
    "import os,sys\n",
    "import win32api\n",
    "import win32security\n",
    "import ntsecuritycon as con"
   ]
  },
  {
   "cell_type": "code",
   "execution_count": 2,
   "metadata": {},
   "outputs": [],
   "source": [
    "FILENAME = \"temp.txt\"\n",
    "os.remove(FILENAME)"
   ]
  },
  {
   "cell_type": "code",
   "execution_count": 3,
   "metadata": {},
   "outputs": [],
   "source": [
    "def show_cacls (filename):\n",
    "    print()\n",
    "    print()\n",
    "    for line in os.popen (\"cacls %s\" % filename).read ().splitlines ():\n",
    "        print(line)"
   ]
  },
  {
   "cell_type": "markdown",
   "metadata": {},
   "source": [
    "**win32security.LookupAccountName()** accepts the name of a system (string) and an account as input (int). It retrieves the SID for the account and the name of the domain where the account was found.\n",
    "\n",
    "For more info: http://timgolden.me.uk/pywin32-docs/win32security__LookupAccountName_meth.html"
   ]
  },
  {
   "cell_type": "code",
   "execution_count": 4,
   "metadata": {},
   "outputs": [],
   "source": [
    "#\n",
    "# Find the SIDs for Everyone, the Admin group and the current user\n",
    "#\n",
    "everyone, domain, type = win32security.LookupAccountName(\"\", \"Everyone\")\n",
    "admins, domain, type = win32security.LookupAccountName(\"\", \"Administrators\")\n",
    "user, domain, type = win32security.LookupAccountName(\"\", win32api.GetUserName ())"
   ]
  },
  {
   "cell_type": "code",
   "execution_count": 5,
   "metadata": {},
   "outputs": [
    {
     "name": "stdout",
     "output_type": "stream",
     "text": [
      "\n",
      "\n",
      "C:\\Users\\james\\OneDrive\\Documents\\GitHub\\CS574_Computer_Security\\Assignments\\Assignment3_File_Security_Permissions\\temp.txt NT AUTHORITY\\SYSTEM:F \n",
      "                                                                                                                            BUILTIN\\Administrators:F \n",
      "                                                                                                                            DESKTOP-7T67BTL\\james:F \n",
      "\n"
     ]
    }
   ],
   "source": [
    "#\n",
    "# Touch the file and use CACLS to show its default permissions\n",
    "# (which will probably be: Admins->Full; Owner->Full; Everyone->Read)\n",
    "#\n",
    "open(FILENAME, \"w\").close ()\n",
    "show_cacls(FILENAME)"
   ]
  },
  {
   "cell_type": "markdown",
   "metadata": {},
   "source": [
    "**win32security.GetFileSecurity()** accepts the name of a file (string) and a flag that specifies the info requested (int). This returns the info about the file and is constrained by the caller's access rights.\n",
    "\n",
    "\n",
    "For more info: http://timgolden.me.uk/pywin32-docs/win32security__GetFileSecurity_meth.html"
   ]
  },
  {
   "cell_type": "code",
   "execution_count": 6,
   "metadata": {},
   "outputs": [],
   "source": [
    "#\n",
    "# Find the DACL part of the Security Descriptor for the file\n",
    "#\n",
    "sd = win32security.GetFileSecurity (FILENAME, win32security.DACL_SECURITY_INFORMATION)"
   ]
  },
  {
   "cell_type": "markdown",
   "metadata": {},
   "source": [
    "**AddAccessAllowedAce()** accepts a revision (int), access (int), SID (int) as inputs and adds an access-allowed ACE to an DACL object.\n",
    "\n",
    "More info: http://timgolden.me.uk/pywin32-docs/PyACL__AddAccessAllowedAce_meth.html"
   ]
  },
  {
   "cell_type": "code",
   "execution_count": 7,
   "metadata": {},
   "outputs": [],
   "source": [
    "#\n",
    "# Create a blank DACL and add the three ACEs we want\n",
    "# We will completely replace the original DACL with\n",
    "# this. Obviously you might want to alter the original\n",
    "# instead.\n",
    "#\n",
    "dacl = win32security.ACL()\n",
    "dacl.AddAccessAllowedAce(win32security.ACL_REVISION, con.FILE_GENERIC_READ, everyone)\n",
    "dacl.AddAccessAllowedAce(win32security.ACL_REVISION, con.FILE_GENERIC_READ | con.FILE_GENERIC_WRITE, user)\n",
    "dacl.AddAccessAllowedAce(win32security.ACL_REVISION, con.FILE_ALL_ACCESS, admins)"
   ]
  },
  {
   "cell_type": "markdown",
   "metadata": {},
   "source": [
    "**SetSecurityDescriptorDacl()** sets info in a discretionary access control list (DACL). \n",
    "\n",
    "For more info: https://docs.microsoft.com/en-us/windows/win32/api/securitybaseapi/nf-securitybaseapi-setsecuritydescriptordacl"
   ]
  },
  {
   "cell_type": "markdown",
   "metadata": {},
   "source": [
    "**win32security.SetFileSecurity()** accepts a filename (string), info (int), security (PySECURITY DESCRIPTOR) and sets the infor about the security of a file or directory and is constrained by the caller's access rights. \n",
    "\n",
    "For more info: http://timgolden.me.uk/pywin32-docs/win32security__SetFileSecurity_meth.html"
   ]
  },
  {
   "cell_type": "code",
   "execution_count": 8,
   "metadata": {},
   "outputs": [
    {
     "name": "stdout",
     "output_type": "stream",
     "text": [
      "\n",
      "\n",
      "C:\\Users\\james\\OneDrive\\Documents\\GitHub\\CS574_Computer_Security\\Assignments\\Assignment3_File_Security_Permissions\\temp.txt Everyone:(special access:)\n",
      "\n",
      "                                                                                                                                     READ_CONTROL\n",
      "                                                                                                                                     SYNCHRONIZE\n",
      "                                                                                                                                     FILE_GENERIC_READ\n",
      "                                                                                                                                     FILE_READ_DATA\n",
      "                                                                                                                                     FILE_READ_EA\n",
      "                                                                                                                                     FILE_READ_ATTRIBUTES\n",
      " \n",
      "                                                                                                                            DESKTOP-7T67BTL\\james:(special access:)\n",
      "\n",
      "                                                                                                                                                  READ_CONTROL\n",
      "                                                                                                                                                  SYNCHRONIZE\n",
      "                                                                                                                                                  FILE_GENERIC_READ\n",
      "                                                                                                                                                  FILE_GENERIC_WRITE\n",
      "                                                                                                                                                  FILE_READ_DATA\n",
      "                                                                                                                                                  FILE_WRITE_DATA\n",
      "                                                                                                                                                  FILE_APPEND_DATA\n",
      "                                                                                                                                                  FILE_READ_EA\n",
      "                                                                                                                                                  FILE_WRITE_EA\n",
      "                                                                                                                                                  FILE_READ_ATTRIBUTES\n",
      "                                                                                                                                                  FILE_WRITE_ATTRIBUTES\n",
      " \n",
      "                                                                                                                            BUILTIN\\Administrators:F \n",
      "\n"
     ]
    }
   ],
   "source": [
    "#\n",
    "# Put our new DACL into the Security Descriptor,\n",
    "# update the file with the updated SD, and use\n",
    "# CACLS to show what's what.\n",
    "#\n",
    "sd.SetSecurityDescriptorDacl(1, dacl, 0)\n",
    "win32security.SetFileSecurity(FILENAME, win32security.DACL_SECURITY_INFORMATION, sd)\n",
    "show_cacls(FILENAME)"
   ]
  }
 ],
 "metadata": {
  "kernelspec": {
   "display_name": "Python 3",
   "language": "python",
   "name": "python3"
  },
  "language_info": {
   "codemirror_mode": {
    "name": "ipython",
    "version": 3
   },
   "file_extension": ".py",
   "mimetype": "text/x-python",
   "name": "python",
   "nbconvert_exporter": "python",
   "pygments_lexer": "ipython3",
   "version": "3.7.4"
  }
 },
 "nbformat": 4,
 "nbformat_minor": 2
}
