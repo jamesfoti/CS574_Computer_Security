{
 "cells": [
  {
   "cell_type": "markdown",
   "metadata": {},
   "source": [
    "HW 2 <br>\n",
    "James Foti <br>\n",
    "Red ID: 820124143 <br>\n",
    "CS 574 - Computer Security <br>\n",
    "Professor Song <br>\n",
    "3/11/2020 <br>"
   ]
  },
  {
   "cell_type": "markdown",
   "metadata": {},
   "source": [
    "**QUESTION 1)** In this problem we will compare the security services that are provided by digital\n",
    "signatures (DS) and message authentication codes (MAC). We assume that Oscar is\n",
    "able to observe all messages sent from Alice to Bob and vice versa. Oscar has no\n",
    "knowledge of any keys but the public one in case of DS. State whether and how\n",
    "(i) DS and (ii) MAC protect against each attack. The value auth(x) is computed with a\n",
    "DS or a MAC algorithm, respectively."
   ]
  },
  {
   "cell_type": "markdown",
   "metadata": {},
   "source": [
    "**Part (a):** (Message integrity) Alice sends a message x = “Transfer $1000 to Mark” in the clear and also sends auth(x) to Bob. Oscar intercepts the message and replaces “Mark” with “Oscar.” Will Bob detect this? <br>\n",
    "**Part (a) Solution:** DS and MAC will both detect this integrity attack."
   ]
  },
  {
   "cell_type": "markdown",
   "metadata": {},
   "source": [
    "**Part (b):** (Replay) Alice sends a message x = “Transfer $1000 to Oscar” in the clear and also sends auth(x) to Bob. Oscar observes the message and signature and sends them 100 times to Bob. Will Bob detect this? <br>\n",
    "**Part (b) Solution:** Sending the same message again will not be detected by DS or MAC. "
   ]
  },
  {
   "cell_type": "markdown",
   "metadata": {},
   "source": [
    "**Part (c):** (Sender authentication with cheating third party) Oscar claims that he sent some message x with a valid auth(x) to Bob but Alice claims the same. Can Bob clear the question in either case? <br> \n",
    "**Part (c) Solution:** Bob can verify the authorized sender by using DS and MAC. "
   ]
  },
  {
   "cell_type": "markdown",
   "metadata": {},
   "source": [
    "**Part (d):** (Authentication with Bob cheating) Bob claims that he received a message x with a valid signature auth(x) from Alice (e.g., “Transfer $1000 from Alice to Bob”) but Alice claims she has never sent it. Can Alice clear this question in either case? <br>\n",
    "**Part (d) Solution:** Alice can clear this up if the message was sent by using DS only."
   ]
  },
  {
   "cell_type": "markdown",
   "metadata": {},
   "source": [
    "**QUESTION 2)** In this question, <br>\n",
    "**Part (a):** Consider the following hash function. Messages are in the form of a sequence of\n",
    "decimal numbers, $M = (a_1, a_2, . . . , a_t)$. The hash value $h$ is calculated as $(\\sum_{i=1}^{t}a_{i}) mod ~n$,for some predefined value $n$. Does this hash function satisfy the basic properties of a hash function? Explain your answer."
   ]
  },
  {
   "cell_type": "markdown",
   "metadata": {},
   "source": [
    "**Part (a) Solution:** $(\\sum_{i=1}^{t}a_{i}) mod ~n$, where $n$ = predefined value <br>\n",
    "This function does not satisfy all of the basic properties of a hash function because:\n",
    "* It is feasible to find pairs that have the same hash value meaning that it is feasible to find a pair $(x,y)$ where $H(y) = H(x)$.\n",
    "* For any given code block $x$, it is feasible to find $y\\neq x$ where $H(y) = H(x)$."
   ]
  },
  {
   "cell_type": "markdown",
   "metadata": {},
   "source": [
    "**Part (b):** Repeat part (a) for the hash function $h = \\sum_{i = 1}^{t} a_{i}^{2}$.<br>"
   ]
  },
  {
   "cell_type": "markdown",
   "metadata": {},
   "source": [
    "**Part (b) Solution** <br>\n",
    "This function does not satisfy all of the basic properties of a hash function because:\n",
    "* It is feasible to find pairs that have the same hash value meaning that it is feasible to find a pair $(x,y)$ where $H(y) = H(x)$.\n",
    "* For any given code block $x$, it is feasible to find $y\\neq x$ where $H(y) = H(x)$."
   ]
  },
  {
   "cell_type": "markdown",
   "metadata": {},
   "source": [
    "**Part (c):** Calculate the hash function of part (b) for $M = [189, 632, 900, 722, 349]$ and $n = 989$"
   ]
  },
  {
   "cell_type": "markdown",
   "metadata": {},
   "source": [
    "**Part (c) Solution:** <br>\n",
    "$$\n",
    "\\begin{align*}\n",
    "& h = \\sum_{i = 1}^{t} a_{i}^{2} \\ mod \\ n\\\\ \n",
    "& h = (189^2 + 632^2 + 900^2 + 722^2 + 349^2)\\ mod\\ 989 \\\\\n",
    "& = 1,888,230 \\ mod \\ 989 \\\\\n",
    "& = 229 \\\\\n",
    "\\end{align*}\n",
    "$$"
   ]
  },
  {
   "cell_type": "markdown",
   "metadata": {},
   "source": [
    "**QUESTION 3)** Considering the concept of salted passwords, answer the following questions: <br><br>\n",
    "**Part (a):** Bob thinks that generating and storing a random salt value for each user id is a\n",
    "waste. Instead, he is proposing that his system administrators use a cryptographic\n",
    "hash of the user id as its salt. Describe whether this choice impacts the security of\n",
    "salted passwords and include an analysis of the respective search spaces."
   ]
  },
  {
   "cell_type": "markdown",
   "metadata": {},
   "source": [
    "**Part (a) Solution:** Let's say that the length of a salt $=64$ bits. If Bob uses salted passwords, the search spaces will increase by $2^{64}$ times. If Bob uses a cryptographic hash of the user id's as their salts, the search space will be reduced greatly and will make attacks more feasible because if more than one user id's password is the same, then they will map to the same hash value which will cause a security risk. It is safer to store a random salt value for each user id because if they two user id's have the same password, their salt value will still be different and thus the string to be hashed and the hashed value (password + salt value) will be different and an adversary will find it harder to map a password with its correct hashed value. "
   ]
  },
  {
   "cell_type": "markdown",
   "metadata": {},
   "source": [
    "**Part (b):** The attacker wants to minimize the number of bytes that she has to hash to\n",
    "conduct a dictionary attack. How can she take advantage of the structure of our\n",
    "hash to minimize the number of bytes she must hash to compute the combination\n",
    "of every dictionary word with every possible salt?\n",
    "* i. Would the same attack be more, less, or just as effective if you stored\n",
    "h(salt | password) in the password file? Why or why not?\n",
    "* ii. Would the same attack be more, less, or just as effective if you stored\n",
    "h(salt | password | salt) in the password file? Why or why not?\n"
   ]
  },
  {
   "cell_type": "markdown",
   "metadata": {},
   "source": [
    "**Part (b) Solution:** It would not make a difference either way because there are just to many possibilities of salt values and hash values for the attacker. Dictionary attacks become more difficult to implement becasue the attacker cannot practically precompute the hashes.  "
   ]
  },
  {
   "cell_type": "markdown",
   "metadata": {},
   "source": [
    "**QUESTION 4)** <br>\n",
    "**Part (a):** What is meant by the strong collision resistance property of a hash function?"
   ]
  },
  {
   "cell_type": "markdown",
   "metadata": {},
   "source": [
    "**Part (a) Solution:** This means that it is very hard (or not possible) to find two inputs that hash to the same output. More formally: tt is not feasible to find a pair $x≠x'$ such that $h(x) = h(x')$"
   ]
  },
  {
   "cell_type": "markdown",
   "metadata": {},
   "source": [
    "**Part (b):** Suppose $H(m)$ is a collision-resistant hash function that maps a message of\n",
    "arbitrary bit length into an n-bit hash value. Is it true that, for all messages $x, x′$ with $x\n",
    "≠ x′$, we have $H(x) ≠ H(x′)$? Explain your answer."
   ]
  },
  {
   "cell_type": "markdown",
   "metadata": {},
   "source": [
    "**Part (b) Solution:** Because $H(m)$ is collision-resistant, this means that it is infeasible to find the value $x'$ where $x'≠x$ with $H(x') = H(x)$. This means that a different message cannot be found using the same hash value and proves that the statement above is false for all unique messages of $x$ and $x'$."
   ]
  },
  {
   "cell_type": "markdown",
   "metadata": {},
   "source": [
    "**QUESTION 5)** <br>\n",
    "**Part (a):** HMAC can be used to simultaneously verify both data integrity and authenticity of\n",
    "the message: <br>\n",
    "* i. Briefly explain how data integrity is verified\n",
    "* ii. Briefly explain what value is used to verify authenticity of the message"
   ]
  },
  {
   "cell_type": "markdown",
   "metadata": {},
   "source": [
    "**Part (a) Solution:** <br>\n",
    "* i. By comparing the received HMAC hash with the calculated HMAC hash using the received message $m$ and the secret key $K$. If both values are the same, then the message has not been corrupted.\n",
    "* ii. The authenticity is verified by comparing the received HMAC hash with the calculated HMAC hash using the secret key and the received message."
   ]
  },
  {
   "cell_type": "markdown",
   "metadata": {},
   "source": [
    "**Part (b):** Now Let's say Alice has a long sentence, like <br>\n",
    "\n",
    "\"The quick brown fox jumped over the lazy dog.\" <br>\n",
    "\n",
    "She needs to keep this string encrypted, so Alice uses an HMAC. Alice wants to do\n",
    "prefix searches for this string, so assume that she also stores all possible prefixes of\n",
    "this string, like HMAC(\"T\"), HMAC(\"Th\"), HMAC(\"The\"), HMAC(\"The \"), etc. <br>\n",
    "\n",
    "In the above scenario, would storing these set of HMAC values, make things\n",
    "unsecure? Could an adversary work out the key, or any part of the plaintext, given a\n",
    "series of HMAC values for all of a given input's prefix values? Assume that the\n",
    "instance of HMAC is a secure MAC function. "
   ]
  },
  {
   "cell_type": "markdown",
   "metadata": {},
   "source": [
    "**Part (b) Solution:** <br>\n",
    "Because we are assuming that the instance of HMAC is a secure MAC function, an adversary would not be able to recover the key or any part of the the plaintext. It would not be efficient or practical even if the adversary has access to many MACs and their corresponding plaintexts."
   ]
  },
  {
   "cell_type": "markdown",
   "metadata": {},
   "source": [
    "**QUESTION 6)** Write a program to implement the RSA algorithm.\n",
    "The program should read the data from a text file, encrypt the message using the keys\n",
    "and write it back to a separate text file. The values of p and q should be provided by\n",
    "the user during runtime. Your program should be able to select appropriate vale of e\n",
    "based on the respective calculations. Your program should also be able to decrypt the\n",
    "encrypted message. <br><br>\n",
    "\n",
    "**Function Description:**\n",
    "Your program should have two separate functions for encryption and decryption each\n",
    "of which will accept file reference and respective keys as function arguments. The\n",
    "functions should encrypt/decrypt to the text files as mentioned above and should not\n",
    "return anything to the main program. <br><br>\n",
    "\n",
    "**Note:** You should write separate functions for primary calculations and for value\n",
    "checks. You can write the program in C++ / Java / Python. You are supposed to write\n",
    "your own functions. No in built functions and third-party APIs will be allowed."
   ]
  },
  {
   "cell_type": "markdown",
   "metadata": {},
   "source": [
    "**Question 6 Solution:**"
   ]
  },
  {
   "cell_type": "markdown",
   "metadata": {},
   "source": [
    "### Solution References\n",
    "* The RSA Encryption Algorithm (1 of 2: Computing an Example) - https://www.youtube.com/watch?v=4zahvcJ9glg\n",
    "* The RSA Encryption Algorithm (2 of 2: Generating the Keys) - https://www.youtube.com/watch?v=oOcTVTpUsPQ&t=627s"
   ]
  },
  {
   "cell_type": "markdown",
   "metadata": {},
   "source": [
    "**Note:** This implementation does not check for errors from user-input and errors from text file references. This program is used just for educational purposes. "
   ]
  },
  {
   "cell_type": "code",
   "execution_count": 1,
   "metadata": {},
   "outputs": [],
   "source": [
    "import random"
   ]
  },
  {
   "cell_type": "code",
   "execution_count": 2,
   "metadata": {},
   "outputs": [],
   "source": [
    "def generate_lock_and_key():\n",
    "    \"\"\"\n",
    "    The steps for the RSA algorithm are outlined nicely in the links above!\n",
    "    \"\"\"\n",
    "    \n",
    "    # NOTE: for this to work, 'p' and 'q' must be greater than 10. I have not figured out why this is the case but this\n",
    "    # is something I will continue to research on down the road.\n",
    "    # For an example: p = 2 and q = 7 WILL NOT WORK but p = 11 and q = 13 WILL WORK!\n",
    "    \n",
    "    p = int(input(\"Enter a number for 'p' (p > 10): \")) # Step 1, Example: p = 11\n",
    "    q = int(input(\"Enter a number for 'q' (q > 10): \")) # Step 1, Example: q = 13\n",
    "    \n",
    "    n = p*q # Step 2\n",
    "    \n",
    "    phi = (p - 1)*(q - 1) # Step 3\n",
    "    \n",
    "    e = choose_e(phi, n) # Step 4\n",
    "    public_key = [e, n]\n",
    "    \n",
    "    d = mod_inverse(e, phi) # Step 5\n",
    "    private_key = [d, n]\n",
    "    \n",
    "    return public_key, private_key"
   ]
  },
  {
   "cell_type": "code",
   "execution_count": 3,
   "metadata": {},
   "outputs": [],
   "source": [
    "def choose_e(phi, n):\n",
    "    e_interval = list(range(2, phi))\n",
    "    \n",
    "    for i in range(len(e_interval)):\n",
    "        if is_coprime(e_interval[i], n) and is_coprime(e_interval[i], phi):\n",
    "            return e_interval[i]\n",
    "    return 1"
   ]
  },
  {
   "cell_type": "code",
   "execution_count": 4,
   "metadata": {},
   "outputs": [],
   "source": [
    "def mod_inverse(a, m):\n",
    "    \"\"\"\n",
    "    SOURCE: https://www.geeksforgeeks.org/multiplicative-inverse-under-modulo-m/\n",
    "    \"\"\"\n",
    "    a = a % m; \n",
    "    for x in range(1, m) : \n",
    "        if ((a * x) % m == 1) : \n",
    "            return x \n",
    "    return 1"
   ]
  },
  {
   "cell_type": "code",
   "execution_count": 5,
   "metadata": {},
   "outputs": [],
   "source": [
    "def gcd(a,b):\n",
    "    \"\"\"\n",
    "    SOURCE: https://www.geeksforgeeks.org/python-math-gcd-function/\n",
    "    \"\"\"\n",
    "    if a == 0: \n",
    "        return b \n",
    "    return gcd(b % a, a) "
   ]
  },
  {
   "cell_type": "code",
   "execution_count": 6,
   "metadata": {},
   "outputs": [],
   "source": [
    "def is_coprime(a, b):\n",
    "    \"\"\"\n",
    "    SOURCE: https://stackoverflow.com/questions/39678984/efficiently-check-if-two-numbers-are-co-primes-relatively-primes\n",
    "    \"\"\"\n",
    "    return gcd(a, b) == 1"
   ]
  },
  {
   "cell_type": "code",
   "execution_count": 7,
   "metadata": {},
   "outputs": [],
   "source": [
    "class RSA:\n",
    "    def encrypt(self, file_reference, public_key):\n",
    "        # Note: the txt file must be in the same local directory as this notebook file!\n",
    "        with open(file_reference, 'r+', encoding=\"utf-8\") as file:\n",
    "            file_contents = file.read()\n",
    "        \n",
    "            file_contents = [ord(c) for c in file_contents] # Convert message into list of numbers based of ASCII values\n",
    "            cipher_text = []\n",
    "\n",
    "            for i in range(len(file_contents)):\n",
    "                cipher = (file_contents[i]**public_key[0]) % public_key[1]\n",
    "                cipher_text.append(cipher)\n",
    "            \n",
    "            cipher_text = [chr(num) for num in cipher_text] #Convert list of ASCII RSA encrypted values to a list of strings\n",
    "            encrypted_data = \"\".join(cipher_text)\n",
    "            \n",
    "            # Clear txt file and upload the encrypted message back to the txt file\n",
    "            file.seek(0)\n",
    "            file.truncate()\n",
    "            file.write(encrypted_data)\n",
    "            \n",
    "        return encrypted_data # I returned the data just so that you can see it without opening the txt file. \n",
    "    \n",
    "    def decrypt(self, file_reference, private_key):\n",
    "        # Note: the txt file must be in the same local directory as this notebook file!\n",
    "        with open(file_reference, 'r+', encoding=\"utf-8\") as file:\n",
    "            file_contents = file.read()\n",
    "            \n",
    "            file_contents = [ord(c) for c in file_contents] # Convert message into list of numbers based of ASCII values\n",
    "            plain_text = []\n",
    "\n",
    "            for i in range(len(file_contents)):\n",
    "                plain = (file_contents[i]**private_key[0]) % private_key[1]\n",
    "                plain_text.append(plain)\n",
    "\n",
    "            plain_text = [chr(num) for num in plain_text] # Convert list of ASCII RSA decrpyted values to a list of strings\n",
    "            decrypted_data = \"\".join(plain_text)\n",
    "            \n",
    "            # Clear txt file and upload the encrypted message back to the txt file\n",
    "            file.seek(0)\n",
    "            file.truncate()\n",
    "            file.write(decrypted_data)\n",
    "            \n",
    "        return decrypted_data # I returned the data just so that you can see it without opening the txt file. "
   ]
  },
  {
   "cell_type": "code",
   "execution_count": 8,
   "metadata": {},
   "outputs": [],
   "source": [
    "rsa = RSA()"
   ]
  },
  {
   "cell_type": "code",
   "execution_count": 9,
   "metadata": {},
   "outputs": [
    {
     "name": "stdout",
     "output_type": "stream",
     "text": [
      "Enter a number for 'p' (p > 10): 11\n",
      "Enter a number for 'q' (q > 10): 13\n",
      "[7, 143] [103, 143]\n"
     ]
    }
   ],
   "source": [
    "public_key, private_key = generate_lock_and_key() # see generate_lock_and_key() function for user-input instructions !!!\n",
    "print(public_key, private_key) # 'p' and 'q' MUST be greater than 10 for this to work !!!"
   ]
  },
  {
   "cell_type": "code",
   "execution_count": 10,
   "metadata": {},
   "outputs": [
    {
     "name": "stdout",
     "output_type": "stream",
     "text": [
      "\u0013>\u0004\u0004-b%-1\u0004dcb[vPbvPb;b>Pbwv\u0004>bw-1b[>bE\bAb>!,1y\u0012v-!\u001fd>,1y\u0012v-!b;\u0004&-1v[\u0015n\n"
     ]
    }
   ],
   "source": [
    "cipher = rsa.encrypt(\"test_file.txt\", public_key)\n",
    "print(cipher)"
   ]
  },
  {
   "cell_type": "code",
   "execution_count": 11,
   "metadata": {},
   "outputs": [
    {
     "name": "stdout",
     "output_type": "stream",
     "text": [
      "Hello world, this is a test file for the RSA encryption/decryption algorithm!\n"
     ]
    }
   ],
   "source": [
    "plain = rsa.decrypt(\"test_file.txt\", private_key)\n",
    "print(plain)"
   ]
  }
 ],
 "metadata": {
  "kernelspec": {
   "display_name": "Python 3",
   "language": "python",
   "name": "python3"
  },
  "language_info": {
   "codemirror_mode": {
    "name": "ipython",
    "version": 3
   },
   "file_extension": ".py",
   "mimetype": "text/x-python",
   "name": "python",
   "nbconvert_exporter": "python",
   "pygments_lexer": "ipython3",
   "version": "3.7.4"
  }
 },
 "nbformat": 4,
 "nbformat_minor": 2
}
