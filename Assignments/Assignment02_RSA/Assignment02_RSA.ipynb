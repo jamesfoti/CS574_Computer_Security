{
 "cells": [
  {
   "cell_type": "markdown",
   "metadata": {},
   "source": [
    "**Question 6)** Write a program to implement the RSA algorithm.\n",
    "The program should read the data from a text file, encrypt the message using the keys\n",
    "and write it back to a separate text file. The values of p and q should be provided by\n",
    "the user during runtime. Your program should be able to select appropriate vale of e\n",
    "based on the respective calculations. Your program should also be able to decrypt the\n",
    "encrypted message. <br><br>\n",
    "\n",
    "**Function Description:**\n",
    "Your program should have two separate functions for encryption and decryption each\n",
    "of which will accept file reference and respective keys as function arguments. The\n",
    "functions should encrypt/decrypt to the text files as mentioned above and should not\n",
    "return anything to the main program. <br><br>\n",
    "\n",
    "**Note:** You should write separate functions for primary calculations and for value\n",
    "checks. You can write the program in C++ / Java / Python. You are supposed to write\n",
    "your own functions. No in built functions and third-party APIs will be allowed."
   ]
  },
  {
   "cell_type": "markdown",
   "metadata": {},
   "source": [
    "### Solution References\n",
    "* The RSA Encryption Algorithm (1 of 2: Computing an Example) - https://www.youtube.com/watch?v=4zahvcJ9glg\n",
    "* The RSA Encryption Algorithm (2 of 2: Generating the Keys) - https://www.youtube.com/watch?v=oOcTVTpUsPQ&t=627s"
   ]
  },
  {
   "cell_type": "code",
   "execution_count": 1,
   "metadata": {},
   "outputs": [],
   "source": [
    "import random\n",
    "import math"
   ]
  },
  {
   "cell_type": "code",
   "execution_count": 2,
   "metadata": {},
   "outputs": [],
   "source": [
    "def generate_lock_and_key():\n",
    "    \"\"\"\n",
    "    The steps for the RSA algorithm are outlined nicely in the links above!\n",
    "    \"\"\"\n",
    "    \n",
    "    # NOTE: for this to work, 'p' and 'q' must be greater than 10. I have not figured out why this is the case but this\n",
    "    # is something I will continue to research on down the road.\n",
    "    # For an example: p = 2 and q = 7 WILL NOT WORK but p = 11 and q = 13 WILL WORK!\n",
    "    \n",
    "    p = 11 # Step 1\n",
    "    q = 13 # Step 1\n",
    "    \n",
    "    n = p*q # Step 2\n",
    "    \n",
    "    phi = (p - 1)*(q - 1) # Step 3\n",
    "    \n",
    "    e = choose_e(phi, n) # Step 4\n",
    "    public_key = [e, n]\n",
    "    \n",
    "    d = mod_inverse(e, phi) # Step 5\n",
    "    private_key = [d, n]\n",
    "    \n",
    "    return public_key, private_key"
   ]
  },
  {
   "cell_type": "code",
   "execution_count": 3,
   "metadata": {},
   "outputs": [],
   "source": [
    "def choose_e(phi, n):\n",
    "    e_interval = list(range(2, phi))\n",
    "    \n",
    "    for i in range(len(e_interval)):\n",
    "        if is_coprime(e_interval[i], n) and is_coprime(e_interval[i], phi):\n",
    "            return e_interval[i]\n",
    "    return 0"
   ]
  },
  {
   "cell_type": "code",
   "execution_count": 4,
   "metadata": {},
   "outputs": [],
   "source": [
    "def mod_inverse(a, m):\n",
    "    \"\"\"\n",
    "    SOURCE: https://www.geeksforgeeks.org/multiplicative-inverse-under-modulo-m/\n",
    "    \"\"\"\n",
    "    a = a % m; \n",
    "    for x in range(1, m) : \n",
    "        if ((a * x) % m == 1) : \n",
    "            return x \n",
    "    return 1"
   ]
  },
  {
   "cell_type": "code",
   "execution_count": 5,
   "metadata": {},
   "outputs": [],
   "source": [
    "def gcd(a,b):\n",
    "    \"\"\"\n",
    "    SOURCE: https://www.geeksforgeeks.org/python-math-gcd-function/\n",
    "    \"\"\"\n",
    "    if a == 0: \n",
    "        return b \n",
    "    return gcd(b % a, a) "
   ]
  },
  {
   "cell_type": "code",
   "execution_count": 6,
   "metadata": {},
   "outputs": [],
   "source": [
    "def is_coprime(a, b):\n",
    "    \"\"\"\n",
    "    SOURCE: https://stackoverflow.com/questions/39678984/efficiently-check-if-two-numbers-are-co-primes-relatively-primes\n",
    "    \"\"\"\n",
    "    return gcd(a, b) == 1"
   ]
  },
  {
   "cell_type": "code",
   "execution_count": 7,
   "metadata": {},
   "outputs": [],
   "source": [
    "class RSA:\n",
    "    def encrypt(self, text, public_key):\n",
    "        text = [ord(c) for c in text] # Convert message into list of numbers based of ASCII values\n",
    "        cipher_text = []\n",
    "        \n",
    "        for i in range(len(text)):\n",
    "            cipher = (text[i]**public_key[0]) % public_key[1]\n",
    "            cipher_text.append(cipher)\n",
    "            \n",
    "        cipher_text = [chr(num) for num in cipher_text] # Convert list of ASCII RSA encrypted values into a list of strings\n",
    "        \n",
    "        return \"\".join(cipher_text)\n",
    "    \n",
    "    def decrypt(self, text, private_key):\n",
    "        text = [ord(c) for c in text] # Convert message into list of numbers based of ASCII values\n",
    "        plain_text = []\n",
    "        \n",
    "        for i in range(len(text)):\n",
    "            plain = (text[i]**private_key[0]) % private_key[1]\n",
    "            plain_text.append(plain)\n",
    "            \n",
    "        plain_text = [chr(num) for num in plain_text] # Convert list of ASCII RSA decrpyted values into a list of strings\n",
    "        \n",
    "        return \"\".join(plain_text)"
   ]
  },
  {
   "cell_type": "code",
   "execution_count": 8,
   "metadata": {},
   "outputs": [],
   "source": [
    "rsa = RSA()"
   ]
  },
  {
   "cell_type": "code",
   "execution_count": 9,
   "metadata": {},
   "outputs": [
    {
     "name": "stdout",
     "output_type": "stream",
     "text": [
      "[7, 143] [103, 143]\n"
     ]
    }
   ],
   "source": [
    "public_key, private_key = generate_lock_and_key()\n",
    "print(public_key, private_key)"
   ]
  },
  {
   "cell_type": "code",
   "execution_count": 10,
   "metadata": {},
   "outputs": [
    {
     "name": "stdout",
     "output_type": "stream",
     "text": [
      "[>\u0004\u0004-b%-1\u0004d\n"
     ]
    }
   ],
   "source": [
    "cipher = rsa.encrypt(\"hello world\", public_key)\n",
    "print(cipher)"
   ]
  },
  {
   "cell_type": "code",
   "execution_count": 11,
   "metadata": {},
   "outputs": [
    {
     "name": "stdout",
     "output_type": "stream",
     "text": [
      "hello world\n"
     ]
    }
   ],
   "source": [
    "plain = rsa.decrypt(cipher, private_key)\n",
    "print(plain)"
   ]
  },
  {
   "cell_type": "code",
   "execution_count": null,
   "metadata": {},
   "outputs": [],
   "source": []
  }
 ],
 "metadata": {
  "kernelspec": {
   "display_name": "Python 3",
   "language": "python",
   "name": "python3"
  },
  "language_info": {
   "codemirror_mode": {
    "name": "ipython",
    "version": 3
   },
   "file_extension": ".py",
   "mimetype": "text/x-python",
   "name": "python",
   "nbconvert_exporter": "python",
   "pygments_lexer": "ipython3",
   "version": "3.7.4"
  }
 },
 "nbformat": 4,
 "nbformat_minor": 2
}
